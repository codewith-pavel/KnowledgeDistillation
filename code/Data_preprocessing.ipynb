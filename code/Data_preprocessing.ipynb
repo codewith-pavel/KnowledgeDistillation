{
 "cells": [
  {
   "cell_type": "code",
   "execution_count": 1,
   "id": "1bf67363",
   "metadata": {},
   "outputs": [],
   "source": [
    "import os\n",
    "import pandas as pd\n",
    "from keras.preprocessing.image import ImageDataGenerator\n",
    "from PIL import Image\n",
    "import numpy as np\n",
    "import random\n",
    "import shutil"
   ]
  },
  {
   "cell_type": "code",
   "execution_count": 2,
   "id": "8190e566",
   "metadata": {},
   "outputs": [],
   "source": [
    "# Definig path where dataset is located\n",
    "desktop_path = os.path.expanduser(\"NSCLC_Final\")"
   ]
  },
  {
   "cell_type": "code",
   "execution_count": 3,
   "id": "f825bdf5",
   "metadata": {},
   "outputs": [
    {
     "name": "stdout",
     "output_type": "stream",
     "text": [
      "NSCLC_Final\n",
      "Types of class labels found: 5\n",
      "Class labels: ['Adenocarcinoma', 'Large_cell_carcinoma', 'Normal', 'Not_otherwise_specified', 'Squamous_cell_carcinoma']\n"
     ]
    }
   ],
   "source": [
    "# Print the desktop_path variable\n",
    "print(desktop_path) \n",
    "\n",
    "# Calculating number of classes & list of class labels\n",
    "class_labels = os.listdir(desktop_path)  \n",
    "num_classes = len(class_labels)  \n",
    "\n",
    "# Printing all of these\n",
    "print(\"Types of class labels found:\", num_classes)  \n",
    "print(\"Class labels:\", class_labels)  "
   ]
  },
  {
   "cell_type": "code",
   "execution_count": 4,
   "id": "5fbf1dda",
   "metadata": {},
   "outputs": [
    {
     "name": "stdout",
     "output_type": "stream",
     "text": [
      "           Labels                                              image\n",
      "0  Adenocarcinoma    NSCLC_Final\\Adenocarcinoma\\Adenocarcinoma_1.png\n",
      "1  Adenocarcinoma   NSCLC_Final\\Adenocarcinoma\\Adenocarcinoma_10.png\n",
      "2  Adenocarcinoma  NSCLC_Final\\Adenocarcinoma\\Adenocarcinoma_100.png\n",
      "3  Adenocarcinoma  NSCLC_Final\\Adenocarcinoma\\Adenocarcinoma_1000...\n",
      "4  Adenocarcinoma  NSCLC_Final\\Adenocarcinoma\\Adenocarcinoma_1001...\n"
     ]
    }
   ],
   "source": [
    "data = []\n",
    "\n",
    "# Creating a dataframe with number of class labels & list of images\n",
    "for label in class_labels:\n",
    "    folder_path = os.path.join(desktop_path, label)\n",
    "    files = os.listdir(folder_path)\n",
    "    for file in files:\n",
    "        file_path = os.path.join(folder_path, file)\n",
    "        data.append({'Labels': label, 'image': file_path})\n",
    "\n",
    "df = pd.DataFrame(data)\n",
    "print(df.head())"
   ]
  },
  {
   "cell_type": "code",
   "execution_count": 5,
   "id": "294d7128",
   "metadata": {},
   "outputs": [
    {
     "name": "stdout",
     "output_type": "stream",
     "text": [
      "Total number of images in the dataset:  51215\n",
      "Labels\n",
      "Squamous_cell_carcinoma    18769\n",
      "Large_cell_carcinoma       13655\n",
      "Not_otherwise_specified     7643\n",
      "Adenocarcinoma              6018\n",
      "Normal                      5130\n",
      "Name: count, dtype: int64\n"
     ]
    }
   ],
   "source": [
    "# Let's check how many samples for each category are present\n",
    "print(\"Total number of images in the dataset: \", len(df))\n",
    "\n",
    "label_count = df['Labels'].value_counts()\n",
    "print(label_count)"
   ]
  },
  {
   "cell_type": "code",
   "execution_count": 6,
   "id": "0f4ab47e",
   "metadata": {},
   "outputs": [],
   "source": [
    "# Define the data augmentation transformations\n",
    "datagen = ImageDataGenerator(\n",
    "    rotation_range=30,\n",
    "    width_shift_range=0.1,\n",
    "    height_shift_range=0.1,\n",
    "    horizontal_flip=True,\n",
    "    vertical_flip=True,\n",
    "    zoom_range=0.1,\n",
    "    shear_range=0.1,\n",
    "    fill_mode='nearest'\n",
    ")"
   ]
  },
  {
   "cell_type": "code",
   "execution_count": null,
   "id": "4ff0f8af",
   "metadata": {},
   "outputs": [],
   "source": [
    "#directory = 'NSCLC_Final/Adenocarcinoma'\n",
    "#save_dir = 'NSCLC_Final/Adenocarcinoma'\n",
    "#directory = 'NSCLC_Final/Large_cell_carcinoma'\n",
    "#save_dir = 'NSCLC_Final/Large_cell_carcinoma'\n",
    "#directory = 'NSCLC_Radiomics_50k_R_C/Normal'\n",
    "#save_dir = 'NSCLC_Radiomics_50k_R_C/Normal'\n",
    "directory = 'NSCLC_Radiomics_50k_R_C/Not_otherwise_specified'\n",
    "save_dir = 'NSCLC_Radiomics_50k_R_C/Not_otherwise_specified'\n",
    "#directory = 'NSCLC_Radiomics_50k_R_C/Squamous_cell_carcinoma'\n",
    "#save_dir = 'NSCLC_Radiomics_50k_R_C/Squamous_cell_carcinoma'\n",
    "os.makedirs(save_dir, exist_ok=True)\n",
    "#max_images = 15000\n",
    "#max_images = 1000\n",
    "#max_images = 1000\n",
    "#max_images = 22000\n",
    "max_images = 12000\n",
    "i = 0\n",
    "\n",
    "\n",
    "for root, dirs, files in os.walk(directory):\n",
    "    for file in files:\n",
    "        if file.endswith('.png'):\n",
    "            img_path = os.path.join(root, file)\n",
    "            img = Image.open(img_path)\n",
    "            img_array = np.array(img)\n",
    "\n",
    "            img_array = img_array.reshape((1, img_array.shape[0], img_array.shape[1], 1))  # Reshape the array\n",
    "\n",
    "            for batch in datagen.flow(img_array, batch_size=1, save_to_dir=save_dir, save_prefix='Not_otherwise_specified_', save_format='png'):\n",
    "                i += 1\n",
    "                if i >= max_images:\n",
    "                    break\n",
    "            if i >= max_images:\n",
    "                break\n",
    "    if i >= max_images:\n",
    "        break\n"
   ]
  },
  {
   "cell_type": "code",
   "execution_count": null,
   "id": "17467f66",
   "metadata": {},
   "outputs": [],
   "source": [
    "# Let's check how many samples for each category are present\n",
    "print(\"Total number of images in the dataset: \", len(df))\n",
    "\n",
    "label_count = df['Labels'].value_counts()\n",
    "print(label_count)"
   ]
  },
  {
   "cell_type": "code",
   "execution_count": null,
   "id": "1a13958d",
   "metadata": {},
   "outputs": [],
   "source": [
    "directory = 'NSCLC/Large_cell_carcinoma'\n",
    "save_dir = 'Practice/Large_cell_carcinoma'\n",
    "os.makedirs(save_dir, exist_ok=True)\n",
    "max_images = 500\n",
    "i = 0\n",
    "\n",
    "\n",
    "for root, dirs, files in os.walk(directory):\n",
    "    for file in files:\n",
    "        if file.endswith('.png'):\n",
    "            img_path = os.path.join(root, file)\n",
    "            img = Image.open(img_path)\n",
    "            img_array = np.array(img)\n",
    "\n",
    "            img_array = img_array.reshape((1, img_array.shape[0], img_array.shape[1], 1))  # Reshape the array\n",
    "\n",
    "            for batch in datagen.flow(img_array, batch_size=1, save_to_dir=save_dir, save_prefix='Large_cell_carcinoma_', save_format='png'):\n",
    "                i += 1\n",
    "                if i >= max_images:\n",
    "                    break\n",
    "            if i >= max_images:\n",
    "                break\n",
    "    if i >= max_images:\n",
    "        break\n"
   ]
  },
  {
   "cell_type": "code",
   "execution_count": null,
   "id": "d56335e1",
   "metadata": {},
   "outputs": [],
   "source": [
    "directory = 'NSCLC/Normal'\n",
    "save_dir = 'Practice/Normal'\n",
    "os.makedirs(save_dir, exist_ok=True)\n",
    "max_images = 500\n",
    "i = 0\n",
    "\n",
    "\n",
    "for root, dirs, files in os.walk(directory):\n",
    "    for file in files:\n",
    "        if file.endswith('.png'):\n",
    "            img_path = os.path.join(root, file)\n",
    "            img = Image.open(img_path)\n",
    "            img_array = np.array(img)\n",
    "\n",
    "            img_array = img_array.reshape((1, img_array.shape[0], img_array.shape[1], 1))  # Reshape the array\n",
    "\n",
    "            for batch in datagen.flow(img_array, batch_size=1, save_to_dir=save_dir, save_prefix='Normal_', save_format='png'):\n",
    "                i += 1\n",
    "                if i >= max_images:\n",
    "                    break\n",
    "            if i >= max_images:\n",
    "                break\n",
    "    if i >= max_images:\n",
    "        break\n"
   ]
  },
  {
   "cell_type": "code",
   "execution_count": null,
   "id": "9659b8c2",
   "metadata": {},
   "outputs": [],
   "source": [
    "directory = 'NSCLC/Not_otherwise_specified'\n",
    "save_dir = 'NSCLC/Not_otherwise_specified'\n",
    "os.makedirs(save_dir, exist_ok=True)\n",
    "max_images = 500\n",
    "i = 0\n",
    "\n",
    "\n",
    "for root, dirs, files in os.walk(directory):\n",
    "    for file in files:\n",
    "        if file.endswith('.png'):\n",
    "            img_path = os.path.join(root, file)\n",
    "            img = Image.open(img_path)\n",
    "            img_array = np.array(img)\n",
    "\n",
    "            img_array = img_array.reshape((1, img_array.shape[0], img_array.shape[1], 1))  # Reshape the array\n",
    "\n",
    "            for batch in datagen.flow(img_array, batch_size=1, save_to_dir=save_dir, save_prefix='Squamous_cell_carcinoma_', save_format='png'):\n",
    "                i += 1\n",
    "                if i >= max_images:\n",
    "                    break\n",
    "            if i >= max_images:\n",
    "                break\n",
    "    if i >= max_images:\n",
    "        break\n"
   ]
  },
  {
   "cell_type": "code",
   "execution_count": null,
   "id": "3df12b9e",
   "metadata": {},
   "outputs": [],
   "source": [
    "directory = 'NSCLC/Squamous_cell_carcinoma'\n",
    "save_dir = 'Practice/Squamous_cell_carcinoma'\n",
    "os.makedirs(save_dir, exist_ok=True)\n",
    "max_images = 500\n",
    "i = 0\n",
    "\n",
    "\n",
    "for root, dirs, files in os.walk(directory):\n",
    "    for file in files:\n",
    "        if file.endswith('.png'):\n",
    "            img_path = os.path.join(root, file)\n",
    "            img = Image.open(img_path)\n",
    "            img_array = np.array(img)\n",
    "\n",
    "            img_array = img_array.reshape((1, img_array.shape[0], img_array.shape[1], 1))  # Reshape the array\n",
    "\n",
    "            for batch in datagen.flow(img_array, batch_size=1, save_to_dir=save_dir, save_prefix='Not_otherwise_specified_', save_format='png'):\n",
    "                i += 1\n",
    "                if i >= max_images:\n",
    "                    break\n",
    "            if i >= max_images:\n",
    "                break\n",
    "    if i >= max_images:\n",
    "        break"
   ]
  },
  {
   "cell_type": "code",
   "execution_count": null,
   "id": "81b8c625",
   "metadata": {},
   "outputs": [],
   "source": [
    "# Definig path where dataset is located\n",
    "desktop_path = os.path.expanduser(\"Data\")"
   ]
  },
  {
   "cell_type": "code",
   "execution_count": null,
   "id": "9ce8c5b8",
   "metadata": {},
   "outputs": [],
   "source": [
    "data = []\n",
    "\n",
    "# Creating a dataframe with number of class labels & list of images\n",
    "for label in class_labels:\n",
    "    folder_path = os.path.join(desktop_path, label)\n",
    "    files = os.listdir(folder_path)\n",
    "    for file in files:\n",
    "        file_path = os.path.join(folder_path, file)\n",
    "        data.append({'Labels': label, 'image': file_path})\n",
    "\n",
    "df = pd.DataFrame(data)\n",
    "print(df.head())"
   ]
  },
  {
   "cell_type": "code",
   "execution_count": null,
   "id": "c4c90164",
   "metadata": {},
   "outputs": [],
   "source": [
    "import os\n",
    "from PIL import Image\n",
    "import pandas as pd\n",
    "\n",
    "# Function to resize and save images into their respective class folders\n",
    "def resize_save_image(row, target_size, output_folder):\n",
    "    img = Image.open(row['image'])\n",
    "    img_resized = img.resize(target_size, Image.ANTIALIAS)\n",
    "    \n",
    "    # Calculate the cropping dimensions (90% crop)\n",
    "    width, height = img_resized.size\n",
    "    crop_width = int(width * 0.9)\n",
    "    crop_height = int(height * 0.9)\n",
    "    left = (width - crop_width) // 2\n",
    "    top = (height - crop_height) // 2\n",
    "    right = (width + crop_width) // 2\n",
    "    bottom = (height + crop_height) // 2\n",
    "    \n",
    "    img_cropped = img_resized.crop((left, top, right, bottom))\n",
    "    \n",
    "    class_label = row['Labels']  \n",
    "    filename = os.path.basename(row['image'])\n",
    "    class_folder = os.path.join(output_folder, class_label)\n",
    "    os.makedirs(class_folder, exist_ok=True)\n",
    "    save_path = os.path.join(class_folder, filename)\n",
    "    img_cropped.save(save_path)\n",
    "\n",
    "# Set the target size for resizing\n",
    "target_size = (330, 330)\n",
    "\n",
    "# Set the output folder path\n",
    "output_folder = os.path.expanduser(\"NSCLC_Radiomics_50k_R_C\")  # Update the folder path as needed\n",
    "\n",
    "# Assuming you have a DataFrame 'df' containing image paths and labels\n",
    "# For example: df = pd.read_csv(\"image_labels.csv\")\n",
    "\n",
    "# Create the output folder if it doesn't exist\n",
    "os.makedirs(output_folder, exist_ok=True)\n",
    "\n",
    "# Resize, crop, and save the images\n",
    "for index, row in df.iterrows():\n",
    "    resize_save_image(row, target_size, output_folder)\n",
    "\n",
    "print(\"Image resizing and cropping completed.\")"
   ]
  },
  {
   "cell_type": "code",
   "execution_count": 18,
   "id": "3367350f",
   "metadata": {},
   "outputs": [
    {
     "name": "stdout",
     "output_type": "stream",
     "text": [
      "Images organized successfully!\n"
     ]
    }
   ],
   "source": [
    "# Set the source directory\n",
    "src_dir = \"NSCLC_Radiomics_50k_R_C\"\n",
    "# Set the destination directory\n",
    "dest_dir = \"NSCLC_Radiomics_25k_splitted\"\n",
    "# Create the destination directory if it doesn't exist\n",
    "os.makedirs(dest_dir, exist_ok=True)\n",
    "# Define the classes\n",
    "classes = ['Adenocarcinoma', 'Large_cell_carcinoma', 'Normal', 'Not_otherwise_specified', 'Squamous_cell_carcinoma']\n",
    "# Define the train:test:validation ratio\n",
    "ratios = [0.7, 0.15, 0.15]\n",
    "\n",
    "# Create train, test, and validation folders in the destination directory\n",
    "os.makedirs(os.path.join(dest_dir, \"train\"), exist_ok=True)\n",
    "os.makedirs(os.path.join(dest_dir, \"test\"), exist_ok=True)\n",
    "os.makedirs(os.path.join(dest_dir, \"validation\"), exist_ok=True)\n",
    "\n",
    "# Loop over the classes\n",
    "for c in classes:\n",
    "    # Create the class directories in the train, test, and validation folders\n",
    "    os.makedirs(os.path.join(dest_dir, \"train\", c), exist_ok=True)\n",
    "    os.makedirs(os.path.join(dest_dir, \"test\", c), exist_ok=True)\n",
    "    os.makedirs(os.path.join(dest_dir, \"validation\", c), exist_ok=True)\n",
    "\n",
    "    # Get the list of image files for the class\n",
    "    image_files = [f for f in os.listdir(os.path.join(src_dir, c)) if f.endswith('.png')]\n",
    "\n",
    "    # Shuffle the list of image files\n",
    "    random.shuffle(image_files)\n",
    "\n",
    "    # Calculate the number of images for each split\n",
    "    num_images = len(image_files)\n",
    "    num_train = int(num_images * ratios[0])\n",
    "    num_test = int(num_images * ratios[1])\n",
    "    num_val = num_images - num_train - num_test\n",
    "\n",
    "    # Move the images to the train, test, and validation directories\n",
    "    for i in range(num_train):\n",
    "        src_file = os.path.join(src_dir, c, image_files[i])\n",
    "        dest_file = os.path.join(dest_dir, \"train\", c, image_files[i])\n",
    "        shutil.copy(src_file, dest_file)\n",
    "\n",
    "    for i in range(num_train, num_train + num_test):\n",
    "        src_file = os.path.join(src_dir, c, image_files[i])\n",
    "        dest_file = os.path.join(dest_dir, \"test\", c, image_files[i])\n",
    "        shutil.copy(src_file, dest_file)\n",
    "\n",
    "    for i in range(num_train + num_test, num_images):\n",
    "        src_file = os.path.join(src_dir, c, image_files[i])\n",
    "        dest_file = os.path.join(dest_dir, \"validation\", c, image_files[i])\n",
    "        shutil.copy(src_file, dest_file)\n",
    "\n",
    "print(\"Images organized successfully!\")"
   ]
  }
 ],
 "metadata": {
  "kernelspec": {
   "display_name": "Python 3 (ipykernel)",
   "language": "python",
   "name": "python3"
  },
  "language_info": {
   "codemirror_mode": {
    "name": "ipython",
    "version": 3
   },
   "file_extension": ".py",
   "mimetype": "text/x-python",
   "name": "python",
   "nbconvert_exporter": "python",
   "pygments_lexer": "ipython3",
   "version": "3.10.2"
  }
 },
 "nbformat": 4,
 "nbformat_minor": 5
}
